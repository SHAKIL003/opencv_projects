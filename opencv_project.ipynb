{
  "cells": [
    {
      "cell_type": "code",
      "execution_count": null,
      "metadata": {
        "colab": {
          "base_uri": "https://localhost:8080/"
        },
        "id": "5U4Net-RVcVn",
        "outputId": "209769ef-65b0-4d6d-b830-d72b3b8d228a"
      },
      "outputs": [
        {
          "name": "stdout",
          "output_type": "stream",
          "text": [
            "Requirement already satisfied: opencv-python in /usr/local/lib/python3.10/dist-packages (4.10.0.84)\n",
            "Requirement already satisfied: numpy>=1.21.2 in /usr/local/lib/python3.10/dist-packages (from opencv-python) (1.26.4)\n"
          ]
        }
      ],
      "source": [
        "!pip install opencv-python"
      ]
    },
    {
      "cell_type": "code",
      "execution_count": null,
      "metadata": {
        "id": "8YIHUf2BWD65"
      },
      "outputs": [],
      "source": [
        "import cv2\n",
        "import numpy"
      ]
    },
    {
      "cell_type": "code",
      "execution_count": null,
      "metadata": {
        "colab": {
          "background_save": true,
          "base_uri": "https://localhost:8080/",
          "height": 211
        },
        "id": "JkP1JDVwWlxa",
        "outputId": "acf7ff81-5b05-429e-926b-54f01624fa57"
      },
      "outputs": [
        {
          "name": "stdout",
          "output_type": "stream",
          "text": [
            "Buffered data was truncated after reaching the output size limit."
          ]
        }
      ],
      "source": [
        "# Reading an Image\n",
        "\n",
        "img = cv2.imread('/content/images/melyna-valle-9j4iMVURKic-unsplash.jpg')\n",
        "\n",
        "from google.colab.patches import cv2_imshow\n",
        "cv2_imshow(\"Image Window\", img)\n",
        "cv2.waitKey(0)\n",
        "# print(img) # it will be printed as a numpy array\n",
        "# print(type(img))\n",
        "# print(img.shape)\n"
      ]
    }
  ],
  "metadata": {
    "colab": {
      "provenance": [],
      "authorship_tag": "ABX9TyOTgRtoXlJN0eX71UKfKVr7"
    },
    "kernelspec": {
      "display_name": "Python 3",
      "name": "python3"
    },
    "language_info": {
      "name": "python"
    }
  },
  "nbformat": 4,
  "nbformat_minor": 0
}